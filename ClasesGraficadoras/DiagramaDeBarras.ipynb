{
 "cells": [
  {
   "cell_type": "code",
   "execution_count": 2,
   "metadata": {
    "collapsed": false
   },
   "outputs": [],
   "source": [
    "import matplotlib.pyplot as pl \n",
    "import numpy as np \n",
    "import matplotlib.patches as mpatches\n",
    "\n",
    "cantCorreos = [[1, 2, 3, 4], [8, 0, 11, 3]] \n",
    "\"\"\"la posicion [0] serian los enviados, la posicion [1] serian los recibidos\"\"\" \n",
    "\n",
    "cantPersonas = 4 #Cantidad de las personas en el grupo \n",
    "X = np.arange(cantPersonas) \n",
    "\n",
    "espacio = 0 \n",
    "colores = '0.0' \n",
    "inc = 1 \n",
    "for i in range(len(cantCorreos)): \n",
    "    pl.bar(X + espacio, cantCorreos[i], color = colores, width = 0.25) \n",
    "    esto = float(colores) + inc \n",
    "    colores = repr(esto)\n",
    "    espacio = 0.25 \n",
    "    \n",
    "idS = [\"Michael\",\"Pachecho\",\"Suarez\",\"Byron\"] \n",
    "\"\"\"las identificaciones o los correos de las personas en el grupo\"\"\" \n",
    "\n",
    "pl.xticks(X + 0.38, idS) #etiquetas en el eje X \n",
    "enviados = mpatches.Patch(color='k', label='enviados') \n",
    "recibidos = mpatches.Patch(color='w', label='recibidos') \n",
    "\n",
    "pl.legend(handles=[enviados,recibidos]) \n",
    "pl.show()"
   ]
  },
  {
   "cell_type": "code",
   "execution_count": null,
   "metadata": {
    "collapsed": true
   },
   "outputs": [],
   "source": []
  }
 ],
 "metadata": {
  "kernelspec": {
   "display_name": "Python 3",
   "language": "python",
   "name": "python3"
  },
  "language_info": {
   "codemirror_mode": {
    "name": "ipython",
    "version": 3
   },
   "file_extension": ".py",
   "mimetype": "text/x-python",
   "name": "python",
   "nbconvert_exporter": "python",
   "pygments_lexer": "ipython3",
   "version": "3.5.1"
  }
 },
 "nbformat": 4,
 "nbformat_minor": 0
}
