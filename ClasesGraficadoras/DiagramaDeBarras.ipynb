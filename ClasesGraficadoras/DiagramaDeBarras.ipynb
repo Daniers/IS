{
 "cells": [
  {
   "cell_type": "code",
   "execution_count": 5,
   "metadata": {
    "collapsed": false
   },
   "outputs": [],
   "source": [
    "import matplotlib.pyplot as pl \n",
    "import numpy as np \n",
    "import matplotlib.patches as mpatches\n",
    "\n",
    "def DiagramaDeBarras(lista = [('Michael', 1, 8), ('Pachecho', 2, 0), ('Byron', 3, 11)]):\n",
    "    \n",
    "    listaEnviados = []\n",
    "    listaRecibidos = []\n",
    "    listaNombres = []\n",
    "    cont = 0\n",
    "    \n",
    "    for i in lista:\n",
    "        nombre, enviados, recibidos = lista[cont]\n",
    "        listaNombres.append(nombre)\n",
    "        listaEnviados.append(enviados)\n",
    "        listaRecibidos.append(recibidos)\n",
    "        cont = cont + 1\n",
    "        \n",
    "    \"\"\"se obtiene de la lista recibida los nombres, la cantidad de los correos enviados y \n",
    "        la cantidad de correos recibidos del usuario\"\"\"    \n",
    "    \n",
    "    cantCorreos = []\n",
    "    cantCorreos.append(listaEnviados)\n",
    "    cantCorreos.append(listaRecibidos)\n",
    "    \n",
    "    \"\"\"En cantCorreos la posición [0] son los enviados, la posición [1] son los recibidos\"\"\" \n",
    "\n",
    "    cantPersonas =  len(listaNombres) #Cantidad de las personas en el grupo\n",
    "    X = np.arange(cantPersonas) \n",
    "\n",
    "    espacio = 0 \n",
    "    colores = '0.0' \n",
    "    inc = 1 \n",
    "    \n",
    "    for i in range(len(cantCorreos)): \n",
    "        pl.bar(X + espacio, cantCorreos[i], color = colores, width = 0.25) \n",
    "        esto = float(colores) + inc \n",
    "        colores = repr(esto)\n",
    "        espacio = 0.25 \n",
    "\n",
    "    pl.xticks(X + 0.38, listaNombres) #etiquetas en el eje X \n",
    "    enviados = mpatches.Patch(color='k', label='enviados') \n",
    "    recibidos = mpatches.Patch(color='w', label='recibidos') \n",
    "\n",
    "    pl.legend(handles=[enviados,recibidos]) \n",
    "    pl.show()\n",
    "    \n",
    "DiagramaDeBarras()"
   ]
  },
  {
   "cell_type": "code",
   "execution_count": null,
   "metadata": {
    "collapsed": true
   },
   "outputs": [],
   "source": []
  }
 ],
 "metadata": {
  "kernelspec": {
   "display_name": "Python 3",
   "language": "python",
   "name": "python3"
  },
  "language_info": {
   "codemirror_mode": {
    "name": "ipython",
    "version": 3
   },
   "file_extension": ".py",
   "mimetype": "text/x-python",
   "name": "python",
   "nbconvert_exporter": "python",
   "pygments_lexer": "ipython3",
   "version": "3.5.1"
  }
 },
 "nbformat": 4,
 "nbformat_minor": 0
}
